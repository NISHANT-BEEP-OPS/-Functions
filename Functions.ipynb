{
  "nbformat": 4,
  "nbformat_minor": 0,
  "metadata": {
    "colab": {
      "provenance": []
    },
    "kernelspec": {
      "name": "python3",
      "display_name": "Python 3"
    },
    "language_info": {
      "name": "python"
    }
  },
  "cells": [
    {
      "cell_type": "markdown",
      "source": [
        "**1:-  What is the difference between a function and a method in Python**"
      ],
      "metadata": {
        "id": "ChFV13qTwYQ2"
      }
    },
    {
      "cell_type": "markdown",
      "source": [
        "Functions and methods are both blocks of reusable code that perform specific tasks, but they differ in their association with objects.\n",
        "\n",
        "Functions\n",
        "\n",
        "Functions are defined independently of any class.\n",
        "\n",
        "They can be called directly by their name.\n",
        "\n",
        "They operate on data passed as arguments or parameters.\n",
        "\n",
        "They are used for general-purpose tasks or reusable blocks of code that are not specific to any object.\n",
        "\n",
        "Methods\n",
        "\n",
        "Methods are defined within a class and are associated with the objects of that class.\n",
        "\n",
        "They are called on the objects of the class using the dot notation (e.g., object.method()).\n",
        "\n",
        "They operate on the data encapsulated within the object they are called on.\n",
        "They are used to define the behavior of objects."
      ],
      "metadata": {
        "id": "k7ClRLKPxL6e"
      }
    },
    {
      "cell_type": "markdown",
      "source": [
        "**2:-  Explain the concept of function arguments and parameters in Python.**"
      ],
      "metadata": {
        "id": "JcFODxw8xxY9"
      }
    },
    {
      "cell_type": "markdown",
      "source": [
        "**Parameters**\n",
        "\n",
        "Parameters are the placeholders listed in a function definition.\n",
        "\n",
        "They define what kind of data the function expects.\n",
        "\n",
        "You can think of them as variables inside the function that get their values when the function is called.\n",
        "\n",
        "**Arguments**\n",
        "\n",
        "Arguments are the actual values you pass to the function when you call it.\n",
        "\n",
        "\n",
        "These values are assigned to the corresponding parameters."
      ],
      "metadata": {
        "id": "EMf3VXXwx-rF"
      }
    },
    {
      "cell_type": "markdown",
      "source": [
        "**3:- What are the different ways to define and call a function in Python**"
      ],
      "metadata": {
        "id": "BqXc-m-Ky29R"
      }
    },
    {
      "cell_type": "markdown",
      "source": [
        "\n",
        "To define a function in Python,\n",
        "\n",
        "use the def keyword, name your function, add optional parameters in parentheses, write your code, and optionally return a value."
      ],
      "metadata": {
        "id": "fq3Wi5AX5ihn"
      }
    },
    {
      "cell_type": "markdown",
      "source": [
        " **4:- What is the purpose of the `return` statement in a Python function**"
      ],
      "metadata": {
        "id": "jyTJEmCi5x3m"
      }
    },
    {
      "cell_type": "markdown",
      "source": [
        "The return statement in a Python function serves a crucial purpose: to send a value (or values) back from the function to the point where it was called."
      ],
      "metadata": {
        "id": "PfXHElMa57Mk"
      }
    },
    {
      "cell_type": "markdown",
      "source": [
        "**5:- What are iterators in Python and how do they differ from iterables**"
      ],
      "metadata": {
        "id": "kR4GPUcA6EVc"
      }
    },
    {
      "cell_type": "markdown",
      "source": [
        "An iterable is an object in Python that can be iterated over, meaning you can go through its elements one by one. If an object is iterable, it means you can use it in a for loop.\n",
        "\n",
        "Key characteristics of iterables:\n",
        "\n",
        "Has an __iter__ method: An object is iterable if it implements the __iter__() special method (also known as a \"dunder\" method). This method returns an iterator.\n",
        "\n",
        "Can be used with for loops: The for loop in Python implicitly calls iter() on the iterable to get an iterator.\n",
        "\n",
        "Examples of built-in iterables:\n",
        "Lists ([1, 2, 3])\n",
        "\n",
        "Tuples ((1, 2, 3))\n",
        "\n",
        "Strings (\"hello\")\n",
        "\n",
        "Dictionaries (iterating over keys by default)\n",
        "\n",
        "Ranges (range(5))\n",
        "\n",
        "File objects"
      ],
      "metadata": {
        "id": "bySfT9DO6NBk"
      }
    },
    {
      "cell_type": "markdown",
      "source": [
        "**6:- Explain the concept of generators in Python and how they are defined.**\n",
        "\n"
      ],
      "metadata": {
        "id": "Q9eDZNwt8bi-"
      }
    },
    {
      "cell_type": "markdown",
      "source": [
        "In Python, generators are a special kind of iterator that generate values on the fly instead of storing them in memory. They're perfect for lazy evaluation and handling large datasets efficiently.\n",
        "\n",
        "\n",
        "A generator is:\n",
        "\n",
        "A function or expression that returns an iterator.\n",
        "\n",
        "It yields values one at a time using the yield keyword instead of return.\n",
        "\n",
        "Automatically implements the __iter__() and __next__() methods.\n",
        "\n"
      ],
      "metadata": {
        "id": "REVK1n758-j9"
      }
    },
    {
      "cell_type": "markdown",
      "source": [
        "**7:- What are the advantages of using generators over regular functions**"
      ],
      "metadata": {
        "id": "m4PngmYA9FZc"
      }
    },
    {
      "cell_type": "markdown",
      "source": [
        "A normal function creates an entire sequence in memory to return a sequence from the list. If the number of items in the sequence is large, it can consume ample memory. However, a generator function is memory-friendly as it calculates the value and produces one item at a time"
      ],
      "metadata": {
        "id": "nkekkqxS9svV"
      }
    },
    {
      "cell_type": "markdown",
      "source": [
        "**8:- What is a lambda function in Python and when is it typically used**"
      ],
      "metadata": {
        "id": "wcGrED97-C6m"
      }
    },
    {
      "cell_type": "markdown",
      "source": [
        "A lambda function in Python is a small, anonymous (unnamed) function defined with the lambda keyword.\n",
        "\n",
        "When is it Typically Used?\n",
        "\n",
        "Lambda functions are typically used in situations where you need a small, disposable function for a short period, especially as an argument to higher-order functions (functions that take other functions as arguments)."
      ],
      "metadata": {
        "id": "hy-ZRPMk-URc"
      }
    },
    {
      "cell_type": "markdown",
      "source": [
        "**9:- Explain the purpose and usage of the `map()` function in Python.**"
      ],
      "metadata": {
        "id": "QBYYC13--5Wu"
      }
    },
    {
      "cell_type": "markdown",
      "source": [
        "The map() function in Python is a built-in function that applies a given function to each item of an iterable (e.g., list, tuple, set) and returns a new iterator (a map object) that yields the results. It's a powerful tool for transforming data in a concise and efficient way.\n",
        "\n",
        "Purpose:\n",
        "\n",
        "Transformation:\n",
        "\n",
        "The primary purpose of map() is to transform each element of an iterable using a specified function.\n",
        "\n",
        "Avoidance of explicit loops:\n",
        "\n",
        "It eliminates the need to write traditional for loops for applying a function to each element, making the code more readable and often more efficient.\n",
        "\n",
        "Functional programming:\n",
        "\n",
        "It aligns with functional programming principles by applying a function to a collection of data.\n",
        "\n",
        "Usage:\n",
        "\n",
        "function:\n",
        "The function to be applied to each item of the iterable.\n",
        "\n",
        "iterable:\n",
        "\n",
        "The iterable (e.g., list, tuple) whose elements will be processed. You can provide multiple iterables if the function takes multiple arguments.\n",
        "\n",
        "Return Value:\n",
        "\n",
        "The map() function returns a map object, which is an iterator. To get a list or other sequence from it, you need to convert it using list(), tuple(), etc."
      ],
      "metadata": {
        "id": "-E0YYKKl_WRE"
      }
    },
    {
      "cell_type": "markdown",
      "source": [
        "**10:- What is the difference between `map()`, `reduce()`, and `filter()` functions in Python**"
      ],
      "metadata": {
        "id": "VX1MisPABF2e"
      }
    },
    {
      "cell_type": "markdown",
      "source": [
        "map(), reduce(), and filter() are all functional programming tools in Python used to process and transform iterables, but they serve different purposes.\n",
        "\n",
        ".** map()**\n",
        "\n",
        "Purpose:\n",
        " To transform each item in an iterable by applying a given function to it. It returns an iterator that yields the results of these transformations.\n",
        "\n",
        "Analogy:\n",
        "\n",
        " Think of map() as taking a list of ingredients (your iterable) and applying a specific cooking technique (your function) to each ingredient to produce a new list of transformed ingredients. Each ingredient is treated individually.\n",
        "\n",
        "Return Value:\n",
        "\n",
        "A map object (an iterator).\n",
        "\n",
        "Number of Iterables:\n",
        "\n",
        "Can take one or more iterables. If multiple iterables are provided, the function must accept that many arguments, and map() will take corresponding elements from each iterable until the shortest one is exhausted.  \n",
        "\n",
        "**filter()**\n",
        "\n",
        "Purpose:\n",
        "\n",
        " To select (filter) items from an iterable based on a condition defined by a given function. It returns an iterator that yields only those items for which the function returns True.\n",
        "\n",
        "Analogy:\n",
        "\n",
        "Imagine you have a basket of fruits (your iterable), and you want to pick out only the ripe ones. Your \"ripe\" checker (your function) would evaluate each fruit, and filter() would give you only the fruits that pass the \"ripe\" test.\n",
        "\n",
        "Return Value:\n",
        "\n",
        "A filter object (an iterator).\n",
        "\n",
        "Number of Iterables:\n",
        "\n",
        "Takes exactly one iterable. The function it applies must take a single argument.\n",
        "\n",
        "**reduce()**\n",
        "\n",
        "Purpose:\n",
        " To aggregate or combine all items in an iterable into a single, cumulative result. It applies a function cumulatively to the items of the iterable, from left to right, so as to reduce the iterable to a single value.\n",
        "\n",
        "Analogy:\n",
        "\n",
        " If map() is applying a technique to each ingredient, reduce() is combining all the ingredients into a single dish. You're \"reducing\" a collection to one outcome.\n",
        "\n",
        "Location:\n",
        "\n",
        " reduce() is not a built-in function in Python 3; it's part of the functools module. You need to import it.\n",
        "\n",
        "Return Value:\n",
        "\n",
        " A single value (the accumulated result).\n",
        "\n",
        "Number of Iterables:\n",
        "\n",
        " Takes exactly one iterable. The function it applies must take two arguments: the accumulator and the current item."
      ],
      "metadata": {
        "id": "Wv2nZL5ABa5M"
      }
    },
    {
      "cell_type": "markdown",
      "source": [
        "**11:- Using pen & Paper write the internal mechanism for sum operation using  reduce function on this given**\n",
        "\n",
        "list:[47,11,42,13]"
      ],
      "metadata": {
        "id": "rmAVuJCBGmRN"
      }
    },
    {
      "cell_type": "markdown",
      "source": [
        "![IMAGE 2.jpeg](data:image/jpeg;base64,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)"
      ],
      "metadata": {
        "id": "d-tjYGnvKZys"
      }
    },
    {
      "cell_type": "markdown",
      "source": [
        " Write a Python function that takes a list of numbers as input and returns the sum of all even numbers in\n",
        "the list\n",
        "\n"
      ],
      "metadata": {
        "id": "kdd92U0jKrZd"
      }
    },
    {
      "cell_type": "code",
      "source": [
        "def sum_of_even_numbers(numbers):\n",
        "    even_sum = 0\n",
        "    for num in numbers:\n",
        "        if num % 2 == 0:\n",
        "            even_sum += num\n",
        "    return even_sum\n",
        "\n",
        "my_list = [1, 2, 3, 4, 5, 6]\n",
        "result = sum_of_even_numbers(my_list)\n",
        "print(\"Sum of even numbers:\", result)"
      ],
      "metadata": {
        "colab": {
          "base_uri": "https://localhost:8080/"
        },
        "id": "tSaq9Sin6EJZ",
        "outputId": "aa252ec0-e413-4cef-f08f-1efac7caf568"
      },
      "execution_count": 5,
      "outputs": [
        {
          "output_type": "stream",
          "name": "stdout",
          "text": [
            "Sum of even numbers: 12\n"
          ]
        }
      ]
    },
    {
      "cell_type": "markdown",
      "source": [
        " Create a Python function that accepts a string and returns the reverse of that string."
      ],
      "metadata": {
        "id": "3zBLENvH6oqs"
      }
    },
    {
      "cell_type": "code",
      "source": [
        "def reverse_string(input_string):\n",
        "  \"\"\"Reverses the input string.\"\"\"\n",
        "  return input_string[::-1]\n",
        "\n",
        "my_string_1 = \"hello\"\n",
        "reversed_1 = reverse_string(my_string_1)\n",
        "print(f\"The reverse of '{my_string_1}' is: '{reversed_1}'\")"
      ],
      "metadata": {
        "colab": {
          "base_uri": "https://localhost:8080/"
        },
        "id": "aHC5DiHB7BBr",
        "outputId": "f6cdd464-389f-45f8-da9d-32ae5bee8b89"
      },
      "execution_count": 7,
      "outputs": [
        {
          "output_type": "stream",
          "name": "stdout",
          "text": [
            "The reverse of 'hello' is: 'olleh'\n"
          ]
        }
      ]
    },
    {
      "cell_type": "markdown",
      "source": [
        "Implement a Python function that takes a list of integers and returns a new list containing the squares of\n",
        "each number."
      ],
      "metadata": {
        "id": "p06vl1767YZi"
      }
    },
    {
      "cell_type": "code",
      "source": [
        "def square_numbers(numbers):\n",
        "    return [num ** 2 for num in numbers]\n",
        "\n",
        "input_list = [1, 2, 3, 4, 5]\n",
        "squared_list = square_numbers(input_list)\n",
        "print(\"Squared numbers:\", squared_list)"
      ],
      "metadata": {
        "colab": {
          "base_uri": "https://localhost:8080/"
        },
        "id": "5hQNrQIc7X-r",
        "outputId": "2f0a2466-9042-4e44-e4fd-a3991305dae8"
      },
      "execution_count": 8,
      "outputs": [
        {
          "output_type": "stream",
          "name": "stdout",
          "text": [
            "Squared numbers: [1, 4, 9, 16, 25]\n"
          ]
        }
      ]
    },
    {
      "cell_type": "markdown",
      "source": [
        "Write a Python function that checks if a given number is prime or not from 1 to 200."
      ],
      "metadata": {
        "id": "Qxjnt2im8248"
      }
    },
    {
      "cell_type": "code",
      "source": [
        "def is_prime(n):\n",
        "    if n < 2:\n",
        "        return False\n",
        "    for i in range(2, int(n ** 0.5) + 1):\n",
        "        if n % i == 0:\n",
        "            return False\n",
        "    return True\n",
        "\n",
        "for num in range(1, 201):\n",
        "    if is_prime(num):\n",
        "        print(f\"{num} is a prime number\")"
      ],
      "metadata": {
        "colab": {
          "base_uri": "https://localhost:8080/"
        },
        "id": "IguomEMkAmE4",
        "outputId": "878fe88c-c679-46b9-b0b4-aa1f17b2f506"
      },
      "execution_count": 10,
      "outputs": [
        {
          "output_type": "stream",
          "name": "stdout",
          "text": [
            "2 is a prime number\n",
            "3 is a prime number\n",
            "5 is a prime number\n",
            "7 is a prime number\n",
            "11 is a prime number\n",
            "13 is a prime number\n",
            "17 is a prime number\n",
            "19 is a prime number\n",
            "23 is a prime number\n",
            "29 is a prime number\n",
            "31 is a prime number\n",
            "37 is a prime number\n",
            "41 is a prime number\n",
            "43 is a prime number\n",
            "47 is a prime number\n",
            "53 is a prime number\n",
            "59 is a prime number\n",
            "61 is a prime number\n",
            "67 is a prime number\n",
            "71 is a prime number\n",
            "73 is a prime number\n",
            "79 is a prime number\n",
            "83 is a prime number\n",
            "89 is a prime number\n",
            "97 is a prime number\n",
            "101 is a prime number\n",
            "103 is a prime number\n",
            "107 is a prime number\n",
            "109 is a prime number\n",
            "113 is a prime number\n",
            "127 is a prime number\n",
            "131 is a prime number\n",
            "137 is a prime number\n",
            "139 is a prime number\n",
            "149 is a prime number\n",
            "151 is a prime number\n",
            "157 is a prime number\n",
            "163 is a prime number\n",
            "167 is a prime number\n",
            "173 is a prime number\n",
            "179 is a prime number\n",
            "181 is a prime number\n",
            "191 is a prime number\n",
            "193 is a prime number\n",
            "197 is a prime number\n",
            "199 is a prime number\n"
          ]
        }
      ]
    },
    {
      "cell_type": "markdown",
      "source": [
        "Create an iterator class in Python that generates the Fibonacci sequence up to a specified number of\n",
        "terms."
      ],
      "metadata": {
        "id": "QPKdkzsJBLFD"
      }
    },
    {
      "cell_type": "code",
      "source": [
        "class FibonacciIterator:\n",
        "    def __init__(self, max_terms):\n",
        "        self.max_terms = max_terms\n",
        "        self.count = 0\n",
        "        self.a = 0\n",
        "        self.b = 1\n",
        "\n",
        "    def __iter__(self):\n",
        "        return self\n",
        "\n",
        "    def __next__(self):\n",
        "        if self.count >= self.max_terms:\n",
        "            raise StopIteration\n",
        "        if self.count == 0:\n",
        "            self.count += 1\n",
        "            return self.a\n",
        "        elif self.count == 1:\n",
        "            self.count += 1\n",
        "            return self.b\n",
        "        else:\n",
        "            self.a, self.b = self.b, self.a + self.b\n",
        "            self.count += 1\n",
        "            return self.b\n",
        "\n",
        "fib = FibonacciIterator(10)\n",
        "for num in fib:\n",
        "    print(num)"
      ],
      "metadata": {
        "colab": {
          "base_uri": "https://localhost:8080/"
        },
        "id": "BG3JQ1elBPsE",
        "outputId": "beef8ccb-7d7c-4b48-af31-aff112686e26"
      },
      "execution_count": 11,
      "outputs": [
        {
          "output_type": "stream",
          "name": "stdout",
          "text": [
            "0\n",
            "1\n",
            "1\n",
            "2\n",
            "3\n",
            "5\n",
            "8\n",
            "13\n",
            "21\n",
            "34\n"
          ]
        }
      ]
    },
    {
      "cell_type": "markdown",
      "source": [
        "Write a generator function in Python that yields the powers of 2 up to a given exponent.\n",
        "\n"
      ],
      "metadata": {
        "id": "mm2wWi0kBwXK"
      }
    },
    {
      "cell_type": "code",
      "source": [
        "def powers_of_two(max_exponent):\n",
        "    for exp in range(max_exponent + 1):\n",
        "        yield 2 ** exp\n",
        "\n",
        "for value in powers_of_two(5):\n",
        "    print(value)"
      ],
      "metadata": {
        "colab": {
          "base_uri": "https://localhost:8080/"
        },
        "id": "82HaDHBlEtVB",
        "outputId": "1fb64832-f9bb-4061-e39a-94fd90ba279c"
      },
      "execution_count": 22,
      "outputs": [
        {
          "output_type": "stream",
          "name": "stdout",
          "text": [
            "1\n",
            "2\n",
            "4\n",
            "8\n",
            "16\n",
            "32\n"
          ]
        }
      ]
    },
    {
      "cell_type": "markdown",
      "source": [
        "Implement a generator function that reads a file line by line and yields each line as a string"
      ],
      "metadata": {
        "id": "1juO8HqUCabi"
      }
    },
    {
      "cell_type": "code",
      "source": [
        "import os\n",
        "if not os.path.exists('filename.txt'):\n",
        "    with open('filename.txt', 'w') as f:\n",
        "        f.write(\"This is line 1\\n\")\n",
        "        f.write(\"This is line 2\\n\")\n",
        "        f.write(\"This is line 3\\n\")\n",
        "\n",
        "# Original code to read and print lines from the file\n",
        "with open('filename.txt', 'r') as file:\n",
        "    for line in file:\n",
        "        print(line.strip())"
      ],
      "metadata": {
        "colab": {
          "base_uri": "https://localhost:8080/"
        },
        "id": "h6fVwwrYEBg1",
        "outputId": "9e0f091f-d347-4ebf-f216-8df36de701e4"
      },
      "execution_count": 21,
      "outputs": [
        {
          "output_type": "stream",
          "name": "stdout",
          "text": [
            "This is line 1\n",
            "This is line 2\n",
            "This is line 3\n"
          ]
        }
      ]
    },
    {
      "cell_type": "markdown",
      "source": [
        "Use a lambda function in Python to sort a list of tuples based on the second element of each tuple."
      ],
      "metadata": {
        "id": "_rGSE29NE3na"
      }
    },
    {
      "cell_type": "code",
      "source": [
        "data = [(1, 3), (4, 1), (2, 2), (5, 0)]\n",
        "sorted_data = sorted(data, key=lambda x: x[1])\n",
        "print(sorted_data)"
      ],
      "metadata": {
        "colab": {
          "base_uri": "https://localhost:8080/"
        },
        "id": "8OV3hUMkE-00",
        "outputId": "912397ce-14fa-41ac-8727-b7ea5bce1965"
      },
      "execution_count": 25,
      "outputs": [
        {
          "output_type": "stream",
          "name": "stdout",
          "text": [
            "[(5, 0), (4, 1), (2, 2), (1, 3)]\n"
          ]
        }
      ]
    },
    {
      "cell_type": "markdown",
      "source": [
        "Write a Python program that uses `map()` to convert a list of temperatures from Celsius to Fahrenheit."
      ],
      "metadata": {
        "id": "JOuytLYEFQms"
      }
    },
    {
      "cell_type": "code",
      "source": [
        "convert_celsius_to_fahrenheit = lambda celsius_list: list(map(lambda x: (x * 9/5) + 32, celsius_list))\n",
        "\n",
        "celsius_list_1 = [0, 10, 20, 30, 100]\n",
        "fahrenheit_list_1 = convert_celsius_to_fahrenheit(celsius_list_1)\n",
        "print(f\"Celsius temperatures: {celsius_list_1}\")\n",
        "print(f\"Fahrenheit temperatures: {fahrenheit_list_1}\")"
      ],
      "metadata": {
        "colab": {
          "base_uri": "https://localhost:8080/"
        },
        "id": "j3MlwIKRFfG9",
        "outputId": "4263b9b4-c356-482e-eb25-b858967b6973"
      },
      "execution_count": 28,
      "outputs": [
        {
          "output_type": "stream",
          "name": "stdout",
          "text": [
            "Celsius temperatures: [0, 10, 20, 30, 100]\n",
            "Fahrenheit temperatures: [32.0, 50.0, 68.0, 86.0, 212.0]\n"
          ]
        }
      ]
    },
    {
      "cell_type": "markdown",
      "source": [
        "Create a Python program that uses `filter()` to remove all the vowels from a given string."
      ],
      "metadata": {
        "id": "gXKVl86mF00B"
      }
    },
    {
      "cell_type": "code",
      "source": [
        "def remove_vowels(input_str):\n",
        "    vowels = 'aeiouAEIOU'\n",
        "    return ''.join(filter(lambda char: char not in vowels, input_str))\n",
        "\n",
        "text = \"Hello, World!\"\n",
        "result = remove_vowels(text)\n",
        "print(\"String without vowels:\", result)"
      ],
      "metadata": {
        "colab": {
          "base_uri": "https://localhost:8080/"
        },
        "id": "r_XC0YI0FmXi",
        "outputId": "588eb890-7c95-46ce-e4cf-16080a99bb53"
      },
      "execution_count": 29,
      "outputs": [
        {
          "output_type": "stream",
          "name": "stdout",
          "text": [
            "String without vowels: Hll, Wrld!\n"
          ]
        }
      ]
    },
    {
      "cell_type": "code",
      "source": [
        "# Input data: each sublist contains [Order Number, Book Title, Quantity, Price per Item]\n",
        "orders = [\n",
        "    [34587, \"Learning Python, Mark Lutz\", 4, 40.95],\n",
        "    [98762, \"Programming Python, Mark Lutz\", 5, 56.80],\n",
        "    [77226, \"Head First Python, Paul Barry\", 3, 32.95],\n",
        "    [88112, \"Einführung in Python3, Bernd Klein\", 3, 24.99]\n",
        "]\n",
        "\n",
        "# Function to compute total cost\n",
        "def compute_total(order):\n",
        "    order_number = order[0]\n",
        "    quantity = order[2]\n",
        "    price_per_item = order[3]\n",
        "    total_cost = quantity * price_per_item\n",
        "    return (order_number, round(total_cost, 2))\n",
        "\n",
        "# Create list of (Order Number, Total Cost)\n",
        "invoice_totals = list(map(compute_total, orders))\n"
      ],
      "metadata": {
        "id": "Ci87NUHcH5i_"
      },
      "execution_count": 32,
      "outputs": []
    },
    {
      "cell_type": "markdown",
      "source": [
        "11) Imagine an accounting routine used in a book shop. It works on a list with sublists, which look like this:\n",
        "\n",
        "Order Number\n",
        "\n",
        "Book Title and Author\n",
        "\n",
        "Quantity\n",
        "\n",
        "4\n",
        "\n",
        "5\n",
        "\n",
        "3\n",
        "\n",
        "3\n",
        "\n",
        "Price per\n",
        "\n",
        "Item\n",
        "\n",
        "34587\n",
        "\n",
        "Learning Python, Mark Lutz\n",
        "\n",
        "40.95\n",
        "\n",
        "98762\n",
        "\n",
        "Programming Python, Mark Lutz\n",
        "\n",
        "56.80\n",
        "\n",
        "77226\n",
        "\n",
        "Head First Python, Paul Barry\n",
        "\n",
        "32.95\n",
        "\n",
        "88112\n",
        "\n",
        "Einführung in Python3, Bernd Klein\n",
        "\n",
        "24.99"
      ],
      "metadata": {
        "id": "U4fZ_Na_Iv5q"
      }
    },
    {
      "cell_type": "code",
      "source": [
        "# --- Function to calculate order summary ---\n",
        "def calculate_order_summary(orders_list):\n",
        "    \"\"\"\n",
        "    Calculates the total cost for each order and the total revenue.\n",
        "\n",
        "    Args:\n",
        "        orders_list: A list of book orders. Each order is a list\n",
        "                     [Order Number, Book Title, Quantity, Price per Item].\n",
        "\n",
        "    Returns:\n",
        "        A tuple containing:\n",
        "        - line_totals: A list of tuples (Order Number, Total Cost).\n",
        "        - total_shop_revenue: The sum of all total order costs.\n",
        "    \"\"\"\n",
        "    line_totals = []\n",
        "    total_shop_revenue = 0.0\n",
        "\n",
        "    for order in orders_list:\n",
        "        # Reuse the compute_total function\n",
        "        order_number, total_cost = compute_total(order)\n",
        "        line_totals.append((order_number, total_cost))\n",
        "        total_shop_revenue += total_cost\n",
        "\n",
        "    return line_totals, total_shop_revenue\n",
        "\n",
        "# --- Sample Book Order Data ---\n",
        "# Format: [Order Number, Book Title and Author, Quantity, Price per Item]\n",
        "book_orders = [\n",
        "    [34587, 'Learning Python, Mark Lutz', 4, 40.95],\n",
        "    [98762, 'Programming Python, Mark Lutz', 5, 56.80],\n",
        "    [77226, 'Head First Python, Paul Barry', 3, 32.95],\n",
        "    [88112, 'Einführung in Python3, Bernd Klein', 3, 24.99]\n",
        "]\n",
        "\n",
        "# --- Perform Accounting ---\n",
        "# Ensure compute_total is defined or available in the environment\n",
        "# It is defined in the cell above this one, so it should be available.\n",
        "line_totals, total_shop_revenue = calculate_order_summary(book_orders)\n",
        "\n",
        "# You can optionally print the results to verify\n",
        "print(\"Line Totals (Order Number, Total Cost):\", line_totals)\n",
        "print(\"Total Shop Revenue:\", round(total_shop_revenue, 2))"
      ],
      "metadata": {
        "colab": {
          "base_uri": "https://localhost:8080/"
        },
        "id": "2_BP4hRCIgtn",
        "outputId": "fbad2c89-1737-4e6a-e3f5-2e828aa0c2e2"
      },
      "execution_count": 34,
      "outputs": [
        {
          "output_type": "stream",
          "name": "stdout",
          "text": [
            "Line Totals (Order Number, Total Cost): [(34587, 163.8), (98762, 284.0), (77226, 98.85), (88112, 74.97)]\n",
            "Total Shop Revenue: 621.62\n"
          ]
        }
      ]
    },
    {
      "cell_type": "code",
      "source": [],
      "metadata": {
        "id": "uAwgJJKFIoOw"
      },
      "execution_count": null,
      "outputs": []
    },
    {
      "cell_type": "markdown",
      "source": [
        "Write a Python program, which returns a list with 2-tuples. Each tuple consists of the order number and the\n",
        "product of the price per item and the quantity. The product should be increased by 10,- € if the value of the\n",
        "order is smaller than 100,00 €."
      ],
      "metadata": {
        "id": "Z7XDFAC-I6na"
      }
    },
    {
      "cell_type": "code",
      "source": [
        "# List of orders: [Order Number, Book Title, Quantity, Price per Item]\n",
        "orders = [\n",
        "    [34587, \"Learning Python, Mark Lutz\", 4, 40.95],\n",
        "    [98762, \"Programming Python, Mark Lutz\", 5, 56.80],\n",
        "    [77226, \"Head First Python, Paul Barry\", 3, 32.95],\n",
        "    [88112, \"Einführung in Python3, Bernd Klein\", 3, 24.99]\n",
        "]\n",
        "\n",
        "def process_order(order):\n",
        "    order_number = order[0]\n",
        "    quantity = order[2]\n",
        "    price = order[3]\n",
        "    total = quantity * price\n",
        "    if total < 100:\n",
        "        total += 10  # add €10 surcharge\n",
        "    return (order_number, round(total, 2))\n",
        "\n",
        "processed_orders = list(map(process_order, orders))\n",
        "\n",
        "for item in processed_orders:\n",
        "    print(item)\n",
        "\n"
      ],
      "metadata": {
        "colab": {
          "base_uri": "https://localhost:8080/"
        },
        "id": "GU3pPqLhJJ8p",
        "outputId": "c5a99842-797b-435e-be33-1cac92f96dc4"
      },
      "execution_count": 35,
      "outputs": [
        {
          "output_type": "stream",
          "name": "stdout",
          "text": [
            "(34587, 163.8)\n",
            "(98762, 284.0)\n",
            "(77226, 108.85)\n",
            "(88112, 84.97)\n"
          ]
        }
      ]
    },
    {
      "cell_type": "markdown",
      "source": [
        "Write a Python program using lambda and map."
      ],
      "metadata": {
        "id": "c0-vGT9vJh4q"
      }
    },
    {
      "cell_type": "code",
      "source": [
        "# List of numbers\n",
        "numbers = [1, 2, 3, 4, 5]\n",
        "\n",
        "# Use lambda with map to square each number\n",
        "squared_numbers = list(map(lambda x: x ** 2, numbers))\n",
        "\n",
        "print(\"Original numbers:\", numbers)\n",
        "print(\"Squared numbers:\", squared_numbers)\n"
      ],
      "metadata": {
        "colab": {
          "base_uri": "https://localhost:8080/"
        },
        "id": "xqnov-ERJU8R",
        "outputId": "5645a11a-fd03-44e8-eaf8-8122067eeaf3"
      },
      "execution_count": 36,
      "outputs": [
        {
          "output_type": "stream",
          "name": "stdout",
          "text": [
            "Original numbers: [1, 2, 3, 4, 5]\n",
            "Squared numbers: [1, 4, 9, 16, 25]\n"
          ]
        }
      ]
    }
  ]
}